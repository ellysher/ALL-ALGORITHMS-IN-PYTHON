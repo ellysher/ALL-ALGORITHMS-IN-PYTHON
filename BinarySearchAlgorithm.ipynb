{
 "cells": [
  {
   "cell_type": "code",
   "execution_count": 19,
   "metadata": {},
   "outputs": [],
   "source": [
    "# BINARY SEARCH ITERATIVE\n",
    "\n",
    "def binarySearch_iterative (arr, target):\n",
    "    left,right= 0, len(arr)-1\n",
    "\n",
    "    while left <= right:\n",
    "        mid = (left+right)//2\n",
    "        if arr[mid]==target:\n",
    "            return mid\n",
    "        elif arr[mid]< target:\n",
    "            left=mid+1\n",
    "\n",
    "        else:\n",
    "            right=mid-1\n",
    "\n",
    "    return 'target not found'\n",
    "        \n",
    "\n"
   ]
  },
  {
   "cell_type": "code",
   "execution_count": null,
   "metadata": {},
   "outputs": [
    {
     "data": {
      "text/plain": [
       "'target not found'"
      ]
     },
     "execution_count": 20,
     "metadata": {},
     "output_type": "execute_result"
    }
   ],
   "source": [
    "# Example\n",
    "\n",
    "arr=[1,2,4,5,6,7,8,9]\n",
    "target=3\n",
    "\n",
    "binarySearch_iterative(arr,target)"
   ]
  },
  {
   "cell_type": "code",
   "execution_count": 32,
   "metadata": {},
   "outputs": [],
   "source": [
    "# Binary search Recursive\n",
    "\n",
    "def binary_search_Recursive(arr,left,right,target):\n",
    "    if left > right:\n",
    "        return -1\n",
    "\n",
    "    mid = (left+right)//2\n",
    "    if arr[mid]== target:\n",
    "        return mid\n",
    "    elif arr[mid]< target:\n",
    "        return binary_search_Recursive(arr,mid+1,right,target)\n",
    "\n",
    "    else:\n",
    "        return binary_search_Recursive(arr,left,mid-1,target)\n",
    "\n",
    "\n",
    "    \n",
    "\n",
    "    "
   ]
  },
  {
   "cell_type": "code",
   "execution_count": 34,
   "metadata": {},
   "outputs": [
    {
     "data": {
      "text/plain": [
       "2"
      ]
     },
     "execution_count": 34,
     "metadata": {},
     "output_type": "execute_result"
    }
   ],
   "source": [
    "arr=[1,2,4,5,6,7,8,9]\n",
    "left, right= 0, len(arr)-1\n",
    "target=4\n",
    "\n",
    "binary_search_Recursive(arr,left, right,target)"
   ]
  }
 ],
 "metadata": {
  "kernelspec": {
   "display_name": "Python 3",
   "language": "python",
   "name": "python3"
  },
  "language_info": {
   "codemirror_mode": {
    "name": "ipython",
    "version": 3
   },
   "file_extension": ".py",
   "mimetype": "text/x-python",
   "name": "python",
   "nbconvert_exporter": "python",
   "pygments_lexer": "ipython3",
   "version": "3.11.0"
  }
 },
 "nbformat": 4,
 "nbformat_minor": 2
}
